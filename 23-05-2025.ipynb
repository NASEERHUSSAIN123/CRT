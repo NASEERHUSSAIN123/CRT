{
 "cells": [
  {
   "cell_type": "markdown",
   "id": "a18e27a7-5d85-4bf4-888e-134c72e3154f",
   "metadata": {},
   "source": [
    "# Python"
   ]
  },
  {
   "cell_type": "markdown",
   "id": "ea913516-6034-4d0d-9e7d-ce3459671369",
   "metadata": {},
   "source": [
    "### Keywords\n",
    "- Keywords are defined words in python"
   ]
  },
  {
   "cell_type": "code",
   "execution_count": 2,
   "id": "10b3fd81-c988-453f-9437-36f3bfbe5472",
   "metadata": {},
   "outputs": [
    {
     "name": "stdout",
     "output_type": "stream",
     "text": [
      "['False', 'None', 'True', 'and', 'as', 'assert', 'async', 'await', 'break', 'class', 'continue', 'def', 'del', 'elif', 'else', 'except', 'finally', 'for', 'from', 'global', 'if', 'import', 'in', 'is', 'lambda', 'nonlocal', 'not', 'or', 'pass', 'raise', 'return', 'try', 'while', 'with', 'yield']\n",
      "35\n"
     ]
    }
   ],
   "source": [
    "# Number of keywords and also keywords in python\n",
    "import keyword\n",
    "print(keyword.kwlist)\n",
    "print(len(keyword.kwlist))"
   ]
  },
  {
   "cell_type": "markdown",
   "id": "4ac4c961-cae9-488b-a45c-6574e3174bad",
   "metadata": {},
   "source": [
    "### Variables\n",
    "- Variables are user defined words to store and access values.\n",
    "- Variables definition\n",
    "  1. Cannot contain spaces.\n",
    "  2. Cannot start with numbers.\n",
    "  3. Cannot contain special characters.\n",
    "  4. Can start with underscore."
   ]
  },
  {
   "cell_type": "code",
   "execution_count": 3,
   "id": "7e130230-d167-4c31-954c-01eca5402b5d",
   "metadata": {},
   "outputs": [
    {
     "name": "stdout",
     "output_type": "stream",
     "text": [
      "Hello\n"
     ]
    }
   ],
   "source": [
    "a = 'Hello'\n",
    "print(a)"
   ]
  },
  {
   "cell_type": "code",
   "execution_count": 4,
   "id": "5c9c7c82-897e-4763-ab4a-5b305245ae62",
   "metadata": {},
   "outputs": [
    {
     "ename": "SyntaxError",
     "evalue": "cannot assign to literal here. Maybe you meant '==' instead of '='? (1639985499.py, line 1)",
     "output_type": "error",
     "traceback": [
      "\u001b[1;36m  Cell \u001b[1;32mIn[4], line 1\u001b[1;36m\u001b[0m\n\u001b[1;33m    1 = \"One\"\u001b[0m\n\u001b[1;37m    ^\u001b[0m\n\u001b[1;31mSyntaxError\u001b[0m\u001b[1;31m:\u001b[0m cannot assign to literal here. Maybe you meant '==' instead of '='?\n"
     ]
    }
   ],
   "source": [
    "1 = \"One\"\n",
    "print(1)"
   ]
  },
  {
   "cell_type": "markdown",
   "id": "96aab03c-0d6f-4a8b-9a9c-edc393bc47a9",
   "metadata": {},
   "source": [
    "### Datatypes\n",
    "#### <u><b> Numeric </b></u>\n",
    "- int\n",
    "- float\n",
    "- complex\n",
    "#### <u><b> Bool </b></u>\n",
    "- True\n",
    "- Flase\n",
    "#### <u><b> None </b></u>\n",
    "- None\n",
    "#### <u><b> Text </b></u>\n",
    "- str\n",
    "#### <u><b> Sequence </b></u>\n",
    "- range\n",
    "- list\n",
    "- tuple\n",
    "#### <u><b> Set </b></u>\n",
    "- set\n",
    "- frozenset\n",
    "#### <u><b> Binarytype </b></u>\n",
    "- bytes\n",
    "- bytearray\n",
    "- memoryview"
   ]
  },
  {
   "cell_type": "markdown",
   "id": "8f43f937-a7ac-4758-9431-1c22097f0d61",
   "metadata": {},
   "source": [
    "### Comments and docstring\n",
    "#### Comments\n",
    "- Comments are statements that are not executed by interpreter.\n",
    "- Multiple comments \"\"\" \"\"\",''' ''' and single comments #.\n",
    "#### Docstring\n",
    "- Docstrings are multiline comments that are defined first in a class or function."
   ]
  },
  {
   "cell_type": "code",
   "execution_count": 5,
   "id": "70c4e3ad-3b1c-4913-b15d-5773f51afdfd",
   "metadata": {},
   "outputs": [],
   "source": [
    "def main():\n",
    "    \"\"\"\n",
    "    Objective: None\n",
    "    Return Value: None\n",
    "    Input Parameter: None\n",
    "    \"\"\"\n",
    "    \"\"\"\n",
    "    Hello\n",
    "    Good Morning\n",
    "    \"\"\"\n",
    "    pass"
   ]
  },
  {
   "cell_type": "markdown",
   "id": "881536eb-857e-4f1a-b277-95420644386e",
   "metadata": {},
   "source": [
    "### Certainly\n",
    "1. Came class\n",
    "   - Example: myVariableName\n",
    "2. Pascal case\n",
    "   - MYclass\n",
    "3. Snake case\n",
    "   - my_variable_name\n",
    "4. Kebab case\n",
    "   - my-variable-name\n",
    "5. UPPERCASE\n",
    "   - MY_CONSTANT\n",
    "6. Capital snakecase\n",
    "   - My_Variable_Name\n",
    "7. UPPER_SNAKE_CASE\n",
    "   - MY_VARIABLE_NAME\n",
    "#### Constant:\n",
    "- There is no constant keyword in python\n",
    "- To define constant in python we use UPPERCASE"
   ]
  },
  {
   "cell_type": "markdown",
   "id": "d550249d-4cc0-4106-aec0-763cd5357009",
   "metadata": {},
   "source": [
    "### Operators\n",
    "1. Arthimetic operator - +, - , /, %, *, //, **\n",
    "2. Logical operator - and , or, not\n",
    "3. Bitwise operator - &, |, ^, ~, >>, <<\n",
    "4. Relational operator - >, <, ==, !=, >=, <=\n",
    "5. Assignment operator - =, +=, -=, *=, /=, //=, %=\n",
    "6. Membership operator - in, not in\n",
    "7. Identity operator - is, is not"
   ]
  },
  {
   "cell_type": "markdown",
   "id": "8cd6b24c-3c35-4cd2-a04e-3c1baf66e96b",
   "metadata": {},
   "source": [
    "#### Uniary operator\n",
    "- In python there is only one uniary operator.\n",
    "- i.e., '~'\n",
    "- To find the compliment for a value we can use -(n + 1)"
   ]
  },
  {
   "cell_type": "code",
   "execution_count": 7,
   "id": "4694d057-c06e-4993-932b-30430fdf5947",
   "metadata": {},
   "outputs": [
    {
     "name": "stdout",
     "output_type": "stream",
     "text": [
      "-8\n",
      "6\n"
     ]
    }
   ],
   "source": [
    "a = ~7\n",
    "print(a)\n",
    "a = ~(-7)\n",
    "print(a)"
   ]
  },
  {
   "cell_type": "markdown",
   "id": "aee900b8-456a-4f0f-aae3-cb4b29c80164",
   "metadata": {},
   "source": [
    "### Control and Conditional statements\n",
    "1. Conditional statement\n",
    "   1. if statement\n",
    "   2. if-else statement\n",
    "   3. if-else ladder\n",
    "   4. nested if\n",
    "2. Looping statement\n",
    "   1. for loop\n",
    "   2. while loop\n",
    "   3. nested for\n",
    "   4. nested while\n",
    "3. Jump statement\n",
    "   1. continue\n",
    "   2. break\n",
    "   3. pass"
   ]
  },
  {
   "cell_type": "code",
   "execution_count": 24,
   "id": "deb8c914-ede9-4d86-99ee-602ed3a5478c",
   "metadata": {},
   "outputs": [
    {
     "name": "stdout",
     "output_type": "stream",
     "text": [
      "Enter a year:  2024\n"
     ]
    },
    {
     "name": "stdout",
     "output_type": "stream",
     "text": [
      "Leap year\n"
     ]
    }
   ],
   "source": [
    "# Leap year problem\n",
    "n = int(input(\"Enter a year: \"))\n",
    "if n%4 == 0:\n",
    "    if n%100 ==0:\n",
    "        if n%400 == 0:\n",
    "            print(\"Leap year\")\n",
    "        else:\n",
    "            print(\"Not Leap year\")\n",
    "    else:\n",
    "        print(\"Leap year\")\n",
    "else:\n",
    "    print(\"Not Leap year\")"
   ]
  },
  {
   "cell_type": "code",
   "execution_count": 21,
   "id": "f5c0e781-54de-4af8-8dc9-f0d6e8eb4c31",
   "metadata": {},
   "outputs": [
    {
     "name": "stdout",
     "output_type": "stream",
     "text": [
      " 1 1 0\n"
     ]
    },
    {
     "name": "stdout",
     "output_type": "stream",
     "text": [
      "Student roaming in ground floor\n"
     ]
    }
   ],
   "source": [
    "# Route of a student\n",
    "a = list(map(int, input().split()))\n",
    "a = [bool(x) for x in a]\n",
    "if a[0] == True:\n",
    "    if a[1] == True:\n",
    "        if a[2] == True:\n",
    "            if a[3] == True:\n",
    "                print(\"Student in class\")\n",
    "            else:\n",
    "                print(\"Student roaming in floor\")\n",
    "        else:\n",
    "            print(\"Student roaming in ground floor\")\n",
    "    else:\n",
    "        print(\"Student in either canteen or roaming in floor\")\n",
    "else:\n",
    "    print(\"Student either in house or movie\")"
   ]
  },
  {
   "cell_type": "markdown",
   "id": "b01f13db-6174-42ff-82ef-75359416d682",
   "metadata": {},
   "source": [
    "### Methods in a module\n",
    "- We use dir for this purpose."
   ]
  },
  {
   "cell_type": "code",
   "execution_count": 32,
   "id": "f6e0eb0c-d5be-4f50-8c3d-e2b981a82ce1",
   "metadata": {},
   "outputs": [
    {
     "name": "stdout",
     "output_type": "stream",
     "text": [
      "['__add__', '__class__', '__contains__', '__delattr__', '__dir__', '__doc__', '__eq__', '__format__', '__ge__', '__getattribute__', '__getitem__', '__getnewargs__', '__getstate__', '__gt__', '__hash__', '__init__', '__init_subclass__', '__iter__', '__le__', '__len__', '__lt__', '__mod__', '__mul__', '__ne__', '__new__', '__reduce__', '__reduce_ex__', '__repr__', '__rmod__', '__rmul__', '__setattr__', '__sizeof__', '__str__', '__subclasshook__', 'capitalize', 'casefold', 'center', 'count', 'encode', 'endswith', 'expandtabs', 'find', 'format', 'format_map', 'index', 'isalnum', 'isalpha', 'isascii', 'isdecimal', 'isdigit', 'isidentifier', 'islower', 'isnumeric', 'isprintable', 'isspace', 'istitle', 'isupper', 'join', 'ljust', 'lower', 'lstrip', 'maketrans', 'partition', 'removeprefix', 'removesuffix', 'replace', 'rfind', 'rindex', 'rjust', 'rpartition', 'rsplit', 'rstrip', 'split', 'splitlines', 'startswith', 'strip', 'swapcase', 'title', 'translate', 'upper', 'zfill']\n"
     ]
    }
   ],
   "source": [
    "a = 'hello'\n",
    "print(dir(a))"
   ]
  },
  {
   "cell_type": "markdown",
   "id": "a1a8236b-15ae-4e29-b613-954ad5bf545c",
   "metadata": {},
   "source": [
    "### Collection datatypes\n",
    "1. list - []\n",
    "2. tuple - ()\n",
    "3. dict - {:}\n",
    "4. set - {}"
   ]
  },
  {
   "cell_type": "markdown",
   "id": "a30b0a73-b3c9-4782-ba96-6004bd6c4be1",
   "metadata": {},
   "source": [
    "### List\n",
    "- It is a collection of different datatypes which would ordered, mutable, indexed and support duplicate value we can create a list with '[]'.\n",
    "- Lists are dynamic."
   ]
  },
  {
   "cell_type": "code",
   "execution_count": 33,
   "id": "c901200a-f1f5-455f-a367-d53e117208de",
   "metadata": {},
   "outputs": [
    {
     "name": "stdout",
     "output_type": "stream",
     "text": [
      "<class 'list'>\n",
      "[1, 1, 1, 'a', 'name', 2.5, (2+3j), None, True]\n",
      "1\n",
      "1\n",
      "1\n",
      "a\n",
      "name\n",
      "2.5\n",
      "(2+3j)\n",
      "None\n",
      "True\n",
      "1, 1, 1, a, name, 2.5, (2+3j), None, True, name\n",
      "[1, 1, 'a']\n",
      "[1, 1, 'name', (2+3j), True]\n",
      "[True, None, (2+3j), 2.5, 'name', 'a', 1, 1, 1]\n"
     ]
    }
   ],
   "source": [
    "# Creating a empty list\n",
    "l1 = []\n",
    "print(type(l1))\n",
    "# List with different datatypes\n",
    "l2 = [1, 1, 1, 'a', \"name\", 2.5, 2+3j, None, True]\n",
    "print(l2)\n",
    "# To access every value\n",
    "for i in l2:\n",
    "    print(i)\n",
    "# To access every value in a line\n",
    "for i in l2:\n",
    "    print(i, end = ', ')\n",
    "# To acces a particular value\n",
    "print(l2[4]) # To access a value using index is called subscript operator\n",
    "# To acces a particular values based on index we use slicing\n",
    "print(l2[1:4])\n",
    "# To access values by skiping middle values\n",
    "print(l2[::2])\n",
    "# To print in reverse order\n",
    "print(l2[::-1])\n"
   ]
  },
  {
   "cell_type": "markdown",
   "id": "7ef27083-d769-4408-84ef-9d59320c854a",
   "metadata": {},
   "source": [
    "#### Operators on list\n",
    "- '+' - To add one list elements to other list.\n",
    "- '*' - To produce a list multiple times.\n",
    "- comparison operator\n",
    "  - <,>, == , >=, <=, =!\n",
    "- membership operator - in, not in - To check whether the element in the list or not\n",
    "- identity operator - is, is not - To check whether the lists is similar or not"
   ]
  },
  {
   "cell_type": "code",
   "execution_count": 26,
   "id": "6dd9e991-db74-43e8-906e-26195a391322",
   "metadata": {},
   "outputs": [
    {
     "name": "stdout",
     "output_type": "stream",
     "text": [
      "[1, 2, 3, 4, 5, 6]\n",
      "[1, 2, 3, 1, 2, 3, 1, 2, 3]\n",
      "True\n",
      "False\n",
      "False\n",
      "True\n",
      "False\n",
      "True\n"
     ]
    }
   ],
   "source": [
    "a = [1, 2, 3]\n",
    "b = [4, 5, 6]\n",
    "# adding lists\n",
    "print(a + b)\n",
    "# product list\n",
    "print(a * 3)\n",
    "# comparison operator\n",
    "print(a < b)\n",
    "print(a > b)\n",
    "# membership operator\n",
    "print(4 in a)\n",
    "print(3 not in b)\n",
    "# identity operator\n",
    "print(a is b)\n",
    "print(a is not b)"
   ]
  },
  {
   "cell_type": "code",
   "execution_count": 23,
   "id": "1fbc121a-9eec-447a-985f-b4908208d91d",
   "metadata": {},
   "outputs": [
    {
     "name": "stdout",
     "output_type": "stream",
     "text": [
      "[0, 1, 2, 3, 4]\n",
      "['hello', 'good morning']\n",
      "[1, 3, 5, 7, 9]\n"
     ]
    }
   ],
   "source": [
    "# To append the elements to the list\n",
    "l = []\n",
    "for i in range(5):\n",
    "    l.append(i)\n",
    "print(l)\n",
    "# To create a list form string\n",
    "a = 'hello','good morning'\n",
    "a = list(a)\n",
    "print(a)\n",
    "nums = range(1, 10, 2)\n",
    "print(list(nums))"
   ]
  },
  {
   "cell_type": "markdown",
   "id": "17211940-41a6-4f5e-ae51-f00e955641cb",
   "metadata": {},
   "source": [
    "### In built functions\n",
    "1. len() - The number of elements in the list\n",
    "2. max() - The maximum value in the list. It works only when there are homogeneous datatypes.\n",
    "3. min() - The minimum value in the list. It works only when there are homogeneous datatypes.\n",
    "4. list() - Create a list from the other datatypes or to create a new list.\n",
    "5. sorted() - Arrange the elements in the ascending order based on the lexicol order. It works only on homogeneous datatypes.\n",
    "6. all() -  To chcek whether the list contain all True values.\n",
    "7. any() - To check whether the list contain any True value.\n",
    "8. sum() - It is used to add elements in the list. It works only on integer, float, complex numbers."
   ]
  },
  {
   "cell_type": "code",
   "execution_count": 25,
   "id": "e914af83-0c1d-4dcc-8a2a-2243e40db01b",
   "metadata": {
    "scrolled": true
   },
   "outputs": [
    {
     "name": "stdout",
     "output_type": "stream",
     "text": [
      "5\n",
      "9\n",
      "4\n",
      "[9, 8, 7, 5, 4]\n",
      "[4, 5, 7, 8, 9]\n",
      "33\n",
      "['h', 'e', 'l', 'l', 'o']\n",
      "False\n",
      "True\n",
      "True\n",
      "False\n"
     ]
    }
   ],
   "source": [
    "l1 = [5, 4, 7, 8, 9]\n",
    "# len() function\n",
    "print(len(l1))\n",
    "# max() function\n",
    "print(max(l1))\n",
    "# min() function\n",
    "print(min(l1))\n",
    "# sorted() function\n",
    "print(sorted(l1, reverse = True)) # descending order\n",
    "print(sorted(l1, reverse = False)) # ascending order\n",
    "# sum() function\n",
    "print(sum(l1))\n",
    "# list() function\n",
    "a = 'hello'\n",
    "print(list(a))\n",
    "# any() function\n",
    "a = [0, 0.0, 0+0j, '',None, False, [], (), {}, set()]\n",
    "print(any(a))\n",
    "a = [0, 0.0, 0+0j, 'a', None, False, [], (), {}, set()]\n",
    "print(any(a))\n",
    "# all() function\n",
    "a = [1, 1.0, 1+1j, 'a', True, [1], ('1',), {1:a}, set([1])]\n",
    "print(all(a))\n",
    "a = [1, 1.0, 1+1j, '', True, [1], ('1',), {1:a}, set([1])]\n",
    "print(all(a))"
   ]
  },
  {
   "cell_type": "markdown",
   "id": "5438fdfd-fcc6-4512-94c2-6560854cacb6",
   "metadata": {},
   "source": [
    "#### Methods of list\n",
    "1. append() - To add elements to the list.\n",
    "2. extend() - To add multiple elements or a list to a list.\n",
    "3. insert() - To add elements to the list at a index.\n",
    "4. index() - It return the index position of the element in the list.\n",
    "5. count() - It is used to count the no.of repeatition of the element in the list.\n",
    "6. remove() - To remove a element from the list.\n",
    "7. pop() - To remove a element from the list based on the index.\n",
    "8. clear() - To remove all elements in the list.\n",
    "9. sort() - To sort the elements in the list.\n",
    "10. reverse() - To reverse the elements order in the list.\n",
    "11. del - To delete the variable from the memory."
   ]
  },
  {
   "cell_type": "code",
   "execution_count": 29,
   "id": "a869dbcb-b601-4a4c-bf5f-4e277131d278",
   "metadata": {},
   "outputs": [
    {
     "name": "stdout",
     "output_type": "stream",
     "text": [
      "[1, 2, 3, 7]\n",
      "[1, 2, 3, 7, 4, 5, 6]\n",
      "[1, 8, 2, 3, 7, 4, 5, 6]\n",
      "5\n",
      "1\n",
      "None\n",
      "[1, 8, 2, 3, 4, 5]\n",
      "[]\n",
      "[1, 2, 3, 4, 5, 8]\n",
      "None\n"
     ]
    },
    {
     "ename": "NameError",
     "evalue": "name 'l2' is not defined",
     "output_type": "error",
     "traceback": [
      "\u001b[1;31m---------------------------------------------------------------------------\u001b[0m",
      "\u001b[1;31mNameError\u001b[0m                                 Traceback (most recent call last)",
      "Cell \u001b[1;32mIn[29], line 31\u001b[0m\n\u001b[0;32m     29\u001b[0m \u001b[38;5;66;03m# del method\u001b[39;00m\n\u001b[0;32m     30\u001b[0m \u001b[38;5;28;01mdel\u001b[39;00m l2\n\u001b[1;32m---> 31\u001b[0m \u001b[38;5;28mprint\u001b[39m(l2)\n",
      "\u001b[1;31mNameError\u001b[0m: name 'l2' is not defined"
     ]
    }
   ],
   "source": [
    "l1 = [1, 2, 3]\n",
    "l2 = [4, 5, 6]\n",
    "# append() method\n",
    "l1.append(7)\n",
    "print(l1)\n",
    "# extend() method\n",
    "l1.extend(l2)\n",
    "print(l1)\n",
    "# insert() method\n",
    "l1.insert(1, 8)\n",
    "print(l1)\n",
    "# index() method\n",
    "print(l1.index(4))\n",
    "# count() method\n",
    "print(l1.count(4))\n",
    "# remove() method\n",
    "print(l1.remove(7))\n",
    "# pop() method\n",
    "l1.pop()\n",
    "print(l1)\n",
    "# clear() method\n",
    "l2.clear()\n",
    "print(l2)\n",
    "# sort() method\n",
    "l1.sort()\n",
    "print(l1)\n",
    "# reverse() method\n",
    "print(l1.reverse())\n",
    "# del method\n",
    "del l2\n",
    "print(l2)"
   ]
  },
  {
   "cell_type": "code",
   "execution_count": null,
   "id": "198bcd05-d795-4c4d-87c8-97661731e068",
   "metadata": {},
   "outputs": [],
   "source": []
  }
 ],
 "metadata": {
  "kernelspec": {
   "display_name": "Python 3 (ipykernel)",
   "language": "python",
   "name": "python3"
  },
  "language_info": {
   "codemirror_mode": {
    "name": "ipython",
    "version": 3
   },
   "file_extension": ".py",
   "mimetype": "text/x-python",
   "name": "python",
   "nbconvert_exporter": "python",
   "pygments_lexer": "ipython3",
   "version": "3.12.7"
  }
 },
 "nbformat": 4,
 "nbformat_minor": 5
}
