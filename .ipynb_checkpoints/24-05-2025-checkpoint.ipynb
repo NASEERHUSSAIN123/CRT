{
 "cells": [
  {
   "cell_type": "code",
   "execution_count": 10,
   "id": "a3618223-213f-4f32-add3-eb7b64a68ea7",
   "metadata": {},
   "outputs": [
    {
     "name": "stdin",
     "output_type": "stream",
     "text": [
      " Capi T@l3\n"
     ]
    },
    {
     "name": "stdout",
     "output_type": "stream",
     "text": [
      "\n",
      "          Length of the secret code: 9\n",
      "          No.of space characters: 1\n",
      "          No.of special characters: 1\n",
      "          No.of lower case letters: 4\n",
      "          No.of upper case letters: 2\n",
      "          No.of digit characters: 1\n",
      "          \n",
      "Not a valid secret code\n"
     ]
    }
   ],
   "source": [
    "# Secret code\n",
    "def secret_code(str1):\n",
    "    sc = lc = uc = space = digit = 0\n",
    "    for i in str1:\n",
    "        if i == ' ':\n",
    "            space += 1\n",
    "        elif not i.isalnum():\n",
    "            sc += 1\n",
    "        elif i.islower():\n",
    "            lc += 1\n",
    "        elif i.isupper():\n",
    "            uc += 1\n",
    "        elif i.isdigit():\n",
    "            digit += 1\n",
    "    print(f\"\"\"\n",
    "          Length of the secret code: {len(str1)}\n",
    "          No.of space characters: {space}\n",
    "          No.of special characters: {sc}\n",
    "          No.of lower case letters: {lc}\n",
    "          No.of upper case letters: {uc}\n",
    "          No.of digit characters: {digit}\n",
    "          \"\"\")\n",
    "    if space == 0 and lc >= 2 and uc >= 2 and sc >= 1 and digit >= 1 and str1[0].isupper() and len(str1) >= 8:\n",
    "        return True\n",
    "    return False\n",
    "str1 = input()\n",
    "if secret_code(str1):\n",
    "    print(\"Valid secret code\")\n",
    "else:\n",
    "    print(\"Not a valid secret code\")"
   ]
  },
  {
   "cell_type": "markdown",
   "id": "4edeca9b-eb54-44cf-a050-0d61ddd88396",
   "metadata": {},
   "source": [
    "### Tuple\n",
    "- A tuple is a collection of different datatypes which is indexed, immutable, and allow duplicate values.\n",
    "- We can tuple using paraenthesis."
   ]
  },
  {
   "cell_type": "code",
   "execution_count": 14,
   "id": "dacb6808-3e4f-4c1d-8b81-39e27a180d52",
   "metadata": {},
   "outputs": [
    {
     "name": "stdout",
     "output_type": "stream",
     "text": [
      "<class 'tuple'>\n",
      "(1, 1.1, 'hello', [1, 2, 3], None, True, 1j)\n",
      "['__add__', '__class__', '__class_getitem__', '__contains__', '__delattr__', '__dir__', '__doc__', '__eq__', '__format__', '__ge__', '__getattribute__', '__getitem__', '__getnewargs__', '__getstate__', '__gt__', '__hash__', '__init__', '__init_subclass__', '__iter__', '__le__', '__len__', '__lt__', '__mul__', '__ne__', '__new__', '__reduce__', '__reduce_ex__', '__repr__', '__rmul__', '__setattr__', '__sizeof__', '__str__', '__subclasshook__', 'count', 'index']\n",
      "hello\n",
      "('hello', [1, 2, 3], None, True, 1j)\n"
     ]
    }
   ],
   "source": [
    "# Tuple\n",
    "a = ()\n",
    "print(type(a))\n",
    "a = (1, 1.1, 'hello', [1, 2, 3], None, True, 0+1j)\n",
    "print(a)\n",
    "# To check the methods of the tuple\n",
    "print(dir(a))\n",
    "# To print a specific character\n",
    "print(a[2])\n",
    "# To print a sequenece of character\n",
    "print(a[2:])"
   ]
  },
  {
   "cell_type": "code",
   "execution_count": 15,
   "id": "3e66b133-9e38-403e-aedb-4421624641c8",
   "metadata": {},
   "outputs": [
    {
     "name": "stdout",
     "output_type": "stream",
     "text": [
      "(1, 2, 3, 4, 5, 6)\n",
      "(1, 2, 3, 1, 2, 3, 1, 2, 3)\n",
      "False\n",
      "False\n",
      "True\n",
      "True\n",
      "True\n"
     ]
    }
   ],
   "source": [
    "t1 = (1, 2, 3)\n",
    "t2 = (4, 5, 6)\n",
    "# operators\n",
    "# Tuple addition or concatenation\n",
    "print(t1 + t2)\n",
    "# Tuple multiplication or repetation\n",
    "print(t1*3)\n",
    "# Conditional operator\n",
    "print(t1 == t2)\n",
    "print(t1 >= t2)\n",
    "print(t1 <= t2)\n",
    "# Membership operator\n",
    "print(1 in t1)\n",
    "# Identity operator\n",
    "print(t1 is not t2)"
   ]
  },
  {
   "cell_type": "markdown",
   "id": "4b433f05-1ae2-43b1-9bd3-197891a0e744",
   "metadata": {},
   "source": [
    "### In-built function in tuple\n",
    "1. len()\n",
    "2. min()\n",
    "3. max()\n",
    "4. sum()\n",
    "5. sorted()\n",
    "6. any()\n",
    "7. all()\n",
    "8. tuple()"
   ]
  },
  {
   "cell_type": "code",
   "execution_count": 16,
   "id": "1b12e58a-617f-4a4a-9068-ee88d9566ce8",
   "metadata": {},
   "outputs": [
    {
     "name": "stdout",
     "output_type": "stream",
     "text": [
      "4\n",
      "1\n"
     ]
    }
   ],
   "source": [
    "# Built-in function\n",
    "t1 = 'hello'\n",
    "t2 = (1, 2, 3, 4)\n",
    "# len() function\n",
    "print(len(t2))\n",
    "# min() function\n",
    "print(min(t2))"
   ]
  },
  {
   "cell_type": "markdown",
   "id": "c672c8ef-b101-4df4-8600-ac00e2f08ef4",
   "metadata": {},
   "source": [
    "### Methods in tuple\n",
    "1. index()\n",
    "2. count()"
   ]
  },
  {
   "cell_type": "code",
   "execution_count": 17,
   "id": "811645b6-7adf-4d65-9c86-fc2f54ec556e",
   "metadata": {},
   "outputs": [
    {
     "name": "stdout",
     "output_type": "stream",
     "text": [
      "('hi', 'hello', 'good', 'morning')\n",
      "hi hello good morning\n"
     ]
    }
   ],
   "source": [
    "# Packing - unpacking\n",
    "pack = 'hi', 'hello', 'good', 'morning' # packing\n",
    "print(pack)\n",
    "n1, n2, n3, n4 = pack # unpacking\n",
    "print(n1, n2, n3, n4)"
   ]
  },
  {
   "cell_type": "markdown",
   "id": "a5b4edec-225c-480a-b2e9-dd89685b2cc9",
   "metadata": {},
   "source": [
    "### Arbitary variable\n",
    "- The arbitary variable is a variable that assigns itself with remaining after assigning the values to all other variables.\n",
    "- We use '*' to define a arbitary variable."
   ]
  },
  {
   "cell_type": "code",
   "execution_count": 22,
   "id": "724e9389-e96c-40ca-aa4a-33bfba6198d4",
   "metadata": {},
   "outputs": [
    {
     "name": "stdout",
     "output_type": "stream",
     "text": [
      "[1, 1] 1 1\n"
     ]
    }
   ],
   "source": [
    "*a, b, c = (1, 1, 1, 1)\n",
    "print(a, b, c)"
   ]
  },
  {
   "cell_type": "markdown",
   "id": "f53856bd-b2c0-40ce-ab67-0bcec807d9c7",
   "metadata": {},
   "source": [
    "### Set\n",
    "- A set is a collection of different datatypes which are unordered, unindexed, and does not allow duplicate values.\n",
    "- A set elements are enclosed in {}."
   ]
  },
  {
   "cell_type": "code",
   "execution_count": 26,
   "id": "09f81a05-6ac8-404e-8a76-9b2eef8933bc",
   "metadata": {},
   "outputs": [
    {
     "name": "stdout",
     "output_type": "stream",
     "text": [
      "<class 'set'>\n",
      "{0, None}\n",
      "False\n",
      "False\n",
      "True\n",
      "True\n"
     ]
    }
   ],
   "source": [
    "# set\n",
    "s = set() # set creation\n",
    "s1 = {1} # set with single element\n",
    "print(type(s1))\n",
    "s = {0, 0.0, None, False, 0+0j}\n",
    "print(s)\n",
    "s1 = {1, 2, 3, 4}\n",
    "s2 = {5, 6, 7, 8}\n",
    "# Operator\n",
    "# Conditional operator\n",
    "print(s1 > s2)\n",
    "print(s1 < s2)\n",
    "# Membership operator\n",
    "print(1 in s1)\n",
    "# Identity operator\n",
    "print(s1 is not s2)"
   ]
  },
  {
   "cell_type": "markdown",
   "id": "70b81f19-8f87-4a35-a7be-50680d227992",
   "metadata": {},
   "source": [
    "#### Built-in methods in set\n",
    "1. len()\n",
    "2. min()\n",
    "3. max()\n",
    "4. sum()\n",
    "5. sorted()\n",
    "6. all()\n",
    "7. any()\n",
    "8. set()"
   ]
  },
  {
   "cell_type": "code",
   "execution_count": 27,
   "id": "306f1d3d-1ab7-4e4d-a100-9c93b445dcc9",
   "metadata": {},
   "outputs": [
    {
     "name": "stdout",
     "output_type": "stream",
     "text": [
      "['__and__', '__class__', '__class_getitem__', '__contains__', '__delattr__', '__dir__', '__doc__', '__eq__', '__format__', '__ge__', '__getattribute__', '__getstate__', '__gt__', '__hash__', '__iand__', '__init__', '__init_subclass__', '__ior__', '__isub__', '__iter__', '__ixor__', '__le__', '__len__', '__lt__', '__ne__', '__new__', '__or__', '__rand__', '__reduce__', '__reduce_ex__', '__repr__', '__ror__', '__rsub__', '__rxor__', '__setattr__', '__sizeof__', '__str__', '__sub__', '__subclasshook__', '__xor__', 'add', 'clear', 'copy', 'difference', 'difference_update', 'discard', 'intersection', 'intersection_update', 'isdisjoint', 'issubset', 'issuperset', 'pop', 'remove', 'symmetric_difference', 'symmetric_difference_update', 'union', 'update']\n"
     ]
    }
   ],
   "source": [
    "print(dir(set()))"
   ]
  },
  {
   "cell_type": "code",
   "execution_count": 28,
   "id": "3ffa2863-357c-4af8-9db3-5e334d4de64b",
   "metadata": {},
   "outputs": [
    {
     "name": "stdout",
     "output_type": "stream",
     "text": [
      "{1, 2, 3, 4}\n",
      "{1, 2, 3, 4, 5, 6, 7}\n",
      "{1, 2, 3, 4, 6, 7}\n",
      "set()\n"
     ]
    }
   ],
   "source": [
    "# set\n",
    "s1 = {1, 2, 3}\n",
    "s1.add(4)\n",
    "print(s1)\n",
    "s1.update({5, 6, 7})\n",
    "print(s1)\n",
    "s1.discard(5) # Doesn't generate any error when the defined value is not present in the set\n",
    "print(s1)\n",
    "s1.clear() # To remove all elements in the set\n",
    "print(s1)"
   ]
  },
  {
   "cell_type": "markdown",
   "id": "85e04c9e-a795-40c4-9b69-1998b16842d3",
   "metadata": {},
   "source": [
    "### Mathematical operations on set\n",
    "1. union\n",
    "2. update\n",
    "3. difference\n",
    "4. difference_update\n",
    "5. intersection\n",
    "6. intersection_update\n",
    "7. symmetric_difference\n",
    "8. symmetric_differece_update\n",
    "9. isdisjoint\n",
    "10. issubset\n",
    "11. issuperset"
   ]
  },
  {
   "cell_type": "code",
   "execution_count": 36,
   "id": "b0864013-7447-4411-8c85-08d270d34fba",
   "metadata": {},
   "outputs": [
    {
     "name": "stdout",
     "output_type": "stream",
     "text": [
      "{1, 2, 3, 4, 5, 6, 7, 8}\n",
      "{1, 2, 3, 4, 5, 6, 7, 8}\n",
      "{1, 2, 3, 4}\n",
      "{8, 5, 6, 7}\n",
      "{8, 5, 6, 7}\n",
      "set()\n",
      "set()\n",
      "True\n",
      "True\n",
      "False\n"
     ]
    }
   ],
   "source": [
    "s1 = {1, 2, 3, 4}\n",
    "s2 = {5, 6, 7, 8}\n",
    "# 1.union\n",
    "print(s1.union(s2)) # perform union operation on two sets\n",
    "# 2. update\n",
    "s1.update(s2)\n",
    "print(s1) # add elements of one set to other set\n",
    "# 3. difference\n",
    "print(s1.difference(s2)) # perform set difference\n",
    "# 4. intesection\n",
    "print(s1.intersection(s2)) # perform set intersection\n",
    "# 5. intesection_update\n",
    "s1.intersection_update(s2) # preform intersection and update the values into the first set\n",
    "print(s1)\n",
    "# 6. symmetric_difference\n",
    "print(s1.symmetric_difference(s2)) # perfrom difference and common elements provide\n",
    "# 7. symmetric_difference_update\n",
    "s1.symmetric_difference_update(s2) # perform difference and store them in first set\n",
    "print(s1)\n",
    "# 8. isdisjoint\n",
    "print(s1.isdisjoint(s2)) # To check whether both sets doesnt't contain same elements\n",
    "# 9. issubset\n",
    "print(s1.issubset(s2)) # To check the set is subset of other set\n",
    "# 10. issuperset\n",
    "print(s1.issuperset(s2)) # To check the set is superset of other set"
   ]
  }
 ],
 "metadata": {
  "kernelspec": {
   "display_name": "Python 3 (ipykernel)",
   "language": "python",
   "name": "python3"
  },
  "language_info": {
   "codemirror_mode": {
    "name": "ipython",
    "version": 3
   },
   "file_extension": ".py",
   "mimetype": "text/x-python",
   "name": "python",
   "nbconvert_exporter": "python",
   "pygments_lexer": "ipython3",
   "version": "3.12.7"
  }
 },
 "nbformat": 4,
 "nbformat_minor": 5
}
