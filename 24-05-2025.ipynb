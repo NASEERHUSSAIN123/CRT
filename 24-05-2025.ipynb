{
 "cells": [
  {
   "cell_type": "code",
   "execution_count": 10,
   "id": "a3618223-213f-4f32-add3-eb7b64a68ea7",
   "metadata": {},
   "outputs": [
    {
     "name": "stdin",
     "output_type": "stream",
     "text": [
      " Capi T@l3\n"
     ]
    },
    {
     "name": "stdout",
     "output_type": "stream",
     "text": [
      "\n",
      "          Length of the secret code: 9\n",
      "          No.of space characters: 1\n",
      "          No.of special characters: 1\n",
      "          No.of lower case letters: 4\n",
      "          No.of upper case letters: 2\n",
      "          No.of digit characters: 1\n",
      "          \n",
      "Not a valid secret code\n"
     ]
    }
   ],
   "source": [
    "# Secret code\n",
    "def secret_code(str1):\n",
    "    sc = lc = uc = space = digit = 0\n",
    "    for i in str1:\n",
    "        if i == ' ':\n",
    "            space += 1\n",
    "        elif not i.isalnum():\n",
    "            sc += 1\n",
    "        elif i.islower():\n",
    "            lc += 1\n",
    "        elif i.isupper():\n",
    "            uc += 1\n",
    "        elif i.isdigit():\n",
    "            digit += 1\n",
    "    print(f\"\"\"\n",
    "          Length of the secret code: {len(str1)}\n",
    "          No.of space characters: {space}\n",
    "          No.of special characters: {sc}\n",
    "          No.of lower case letters: {lc}\n",
    "          No.of upper case letters: {uc}\n",
    "          No.of digit characters: {digit}\n",
    "          \"\"\")\n",
    "    if space == 0 and lc >= 2 and uc >= 2 and sc >= 1 and digit >= 1 and str1[0].isupper() and len(str1) >= 8:\n",
    "        return True\n",
    "    return False\n",
    "str1 = input()\n",
    "if secret_code(str1):\n",
    "    print(\"Valid secret code\")\n",
    "else:\n",
    "    print(\"Not a valid secret code\")"
   ]
  },
  {
   "cell_type": "markdown",
   "id": "4edeca9b-eb54-44cf-a050-0d61ddd88396",
   "metadata": {},
   "source": [
    "### Tuple\n",
    "- A tuple is a collection of different datatypes which is indexed, immutable, and allow duplicate values.\n",
    "- We can tuple using paraenthesis."
   ]
  },
  {
   "cell_type": "code",
   "execution_count": 14,
   "id": "dacb6808-3e4f-4c1d-8b81-39e27a180d52",
   "metadata": {},
   "outputs": [
    {
     "name": "stdout",
     "output_type": "stream",
     "text": [
      "<class 'tuple'>\n",
      "(1, 1.1, 'hello', [1, 2, 3], None, True, 1j)\n",
      "['__add__', '__class__', '__class_getitem__', '__contains__', '__delattr__', '__dir__', '__doc__', '__eq__', '__format__', '__ge__', '__getattribute__', '__getitem__', '__getnewargs__', '__getstate__', '__gt__', '__hash__', '__init__', '__init_subclass__', '__iter__', '__le__', '__len__', '__lt__', '__mul__', '__ne__', '__new__', '__reduce__', '__reduce_ex__', '__repr__', '__rmul__', '__setattr__', '__sizeof__', '__str__', '__subclasshook__', 'count', 'index']\n",
      "hello\n",
      "('hello', [1, 2, 3], None, True, 1j)\n"
     ]
    }
   ],
   "source": [
    "# Tuple\n",
    "a = ()\n",
    "print(type(a))\n",
    "a = (1, 1.1, 'hello', [1, 2, 3], None, True, 0+1j)\n",
    "print(a)\n",
    "# To check the methods of the tuple\n",
    "print(dir(a))\n",
    "# To print a specific character\n",
    "print(a[2])\n",
    "# To print a sequenece of character\n",
    "print(a[2:])"
   ]
  },
  {
   "cell_type": "code",
   "execution_count": 15,
   "id": "3e66b133-9e38-403e-aedb-4421624641c8",
   "metadata": {},
   "outputs": [
    {
     "name": "stdout",
     "output_type": "stream",
     "text": [
      "(1, 2, 3, 4, 5, 6)\n",
      "(1, 2, 3, 1, 2, 3, 1, 2, 3)\n",
      "False\n",
      "False\n",
      "True\n",
      "True\n",
      "True\n"
     ]
    }
   ],
   "source": [
    "t1 = (1, 2, 3)\n",
    "t2 = (4, 5, 6)\n",
    "# operators\n",
    "# Tuple addition or concatenation\n",
    "print(t1 + t2)\n",
    "# Tuple multiplication or repetation\n",
    "print(t1*3)\n",
    "# Conditional operator\n",
    "print(t1 == t2)\n",
    "print(t1 >= t2)\n",
    "print(t1 <= t2)\n",
    "# Membership operator\n",
    "print(1 in t1)\n",
    "# Identity operator\n",
    "print(t1 is not t2)"
   ]
  },
  {
   "cell_type": "markdown",
   "id": "4b433f05-1ae2-43b1-9bd3-197891a0e744",
   "metadata": {},
   "source": [
    "### In-built function in tuple\n",
    "1. len()\n",
    "2. min()\n",
    "3. max()\n",
    "4. sum()\n",
    "5. sorted()\n",
    "6. any()\n",
    "7. all()\n",
    "8. tuple()"
   ]
  },
  {
   "cell_type": "code",
   "execution_count": 16,
   "id": "1b12e58a-617f-4a4a-9068-ee88d9566ce8",
   "metadata": {},
   "outputs": [
    {
     "name": "stdout",
     "output_type": "stream",
     "text": [
      "4\n",
      "1\n"
     ]
    }
   ],
   "source": [
    "# Built-in function\n",
    "t1 = 'hello'\n",
    "t2 = (1, 2, 3, 4)\n",
    "# len() function\n",
    "print(len(t2))\n",
    "# min() function\n",
    "print(min(t2))"
   ]
  },
  {
   "cell_type": "markdown",
   "id": "c672c8ef-b101-4df4-8600-ac00e2f08ef4",
   "metadata": {},
   "source": [
    "### Methods in tuple\n",
    "1. index()\n",
    "2. count()"
   ]
  },
  {
   "cell_type": "code",
   "execution_count": 17,
   "id": "811645b6-7adf-4d65-9c86-fc2f54ec556e",
   "metadata": {},
   "outputs": [
    {
     "name": "stdout",
     "output_type": "stream",
     "text": [
      "('hi', 'hello', 'good', 'morning')\n",
      "hi hello good morning\n"
     ]
    }
   ],
   "source": [
    "# Packing - unpacking\n",
    "pack = 'hi', 'hello', 'good', 'morning' # packing\n",
    "print(pack)\n",
    "n1, n2, n3, n4 = pack # unpacking\n",
    "print(n1, n2, n3, n4)"
   ]
  },
  {
   "cell_type": "markdown",
   "id": "a5b4edec-225c-480a-b2e9-dd89685b2cc9",
   "metadata": {},
   "source": [
    "### Arbitary variable\n",
    "- The arbitary variable is a variable that assigns itself with remaining after assigning the values to all other variables.\n",
    "- We use '*' to define a arbitary variable."
   ]
  },
  {
   "cell_type": "code",
   "execution_count": 22,
   "id": "724e9389-e96c-40ca-aa4a-33bfba6198d4",
   "metadata": {},
   "outputs": [
    {
     "name": "stdout",
     "output_type": "stream",
     "text": [
      "[1, 1] 1 1\n"
     ]
    }
   ],
   "source": [
    "*a, b, c = (1, 1, 1, 1)\n",
    "print(a, b, c)"
   ]
  },
  {
   "cell_type": "markdown",
   "id": "f53856bd-b2c0-40ce-ab67-0bcec807d9c7",
   "metadata": {},
   "source": [
    "### Set\n",
    "- A set is a collection of different datatypes which are unordered, unindexed, and does not allow duplicate values.\n",
    "- A set elements are enclosed in {}."
   ]
  },
  {
   "cell_type": "code",
   "execution_count": 26,
   "id": "09f81a05-6ac8-404e-8a76-9b2eef8933bc",
   "metadata": {},
   "outputs": [
    {
     "name": "stdout",
     "output_type": "stream",
     "text": [
      "<class 'set'>\n",
      "{0, None}\n",
      "False\n",
      "False\n",
      "True\n",
      "True\n"
     ]
    }
   ],
   "source": [
    "# set\n",
    "s = set() # set creation\n",
    "s1 = {1} # set with single element\n",
    "print(type(s1))\n",
    "s = {0, 0.0, None, False, 0+0j}\n",
    "print(s)\n",
    "s1 = {1, 2, 3, 4}\n",
    "s2 = {5, 6, 7, 8}\n",
    "# Operator\n",
    "# Conditional operator\n",
    "print(s1 > s2)\n",
    "print(s1 < s2)\n",
    "# Membership operator\n",
    "print(1 in s1)\n",
    "# Identity operator\n",
    "print(s1 is not s2)"
   ]
  },
  {
   "cell_type": "markdown",
   "id": "70b81f19-8f87-4a35-a7be-50680d227992",
   "metadata": {},
   "source": [
    "#### Built-in methods in set\n",
    "1. len()\n",
    "2. min()\n",
    "3. max()\n",
    "4. sum()\n",
    "5. sorted()\n",
    "6. all()\n",
    "7. any()\n",
    "8. set()"
   ]
  },
  {
   "cell_type": "code",
   "execution_count": 27,
   "id": "306f1d3d-1ab7-4e4d-a100-9c93b445dcc9",
   "metadata": {},
   "outputs": [
    {
     "name": "stdout",
     "output_type": "stream",
     "text": [
      "['__and__', '__class__', '__class_getitem__', '__contains__', '__delattr__', '__dir__', '__doc__', '__eq__', '__format__', '__ge__', '__getattribute__', '__getstate__', '__gt__', '__hash__', '__iand__', '__init__', '__init_subclass__', '__ior__', '__isub__', '__iter__', '__ixor__', '__le__', '__len__', '__lt__', '__ne__', '__new__', '__or__', '__rand__', '__reduce__', '__reduce_ex__', '__repr__', '__ror__', '__rsub__', '__rxor__', '__setattr__', '__sizeof__', '__str__', '__sub__', '__subclasshook__', '__xor__', 'add', 'clear', 'copy', 'difference', 'difference_update', 'discard', 'intersection', 'intersection_update', 'isdisjoint', 'issubset', 'issuperset', 'pop', 'remove', 'symmetric_difference', 'symmetric_difference_update', 'union', 'update']\n"
     ]
    }
   ],
   "source": [
    "print(dir(set()))"
   ]
  },
  {
   "cell_type": "code",
   "execution_count": 28,
   "id": "3ffa2863-357c-4af8-9db3-5e334d4de64b",
   "metadata": {},
   "outputs": [
    {
     "name": "stdout",
     "output_type": "stream",
     "text": [
      "{1, 2, 3, 4}\n",
      "{1, 2, 3, 4, 5, 6, 7}\n",
      "{1, 2, 3, 4, 6, 7}\n",
      "set()\n"
     ]
    }
   ],
   "source": [
    "# set\n",
    "s1 = {1, 2, 3}\n",
    "s1.add(4)\n",
    "print(s1)\n",
    "s1.update({5, 6, 7})\n",
    "print(s1)\n",
    "s1.discard(5) # Doesn't generate any error when the defined value is not present in the set\n",
    "print(s1)\n",
    "s1.clear() # To remove all elements in the set\n",
    "print(s1)"
   ]
  },
  {
   "cell_type": "markdown",
   "id": "85e04c9e-a795-40c4-9b69-1998b16842d3",
   "metadata": {},
   "source": [
    "### Mathematical operations on set\n",
    "1. union\n",
    "2. update\n",
    "3. difference\n",
    "4. difference_update\n",
    "5. intersection\n",
    "6. intersection_update\n",
    "7. symmetric_difference\n",
    "8. symmetric_differece_update\n",
    "9. isdisjoint\n",
    "10. issubset\n",
    "11. issuperset"
   ]
  },
  {
   "cell_type": "code",
   "execution_count": 36,
   "id": "b0864013-7447-4411-8c85-08d270d34fba",
   "metadata": {
    "scrolled": true
   },
   "outputs": [
    {
     "name": "stdout",
     "output_type": "stream",
     "text": [
      "{1, 2, 3, 4, 5, 6, 7, 8}\n",
      "{1, 2, 3, 4, 5, 6, 7, 8}\n",
      "{1, 2, 3, 4}\n",
      "{8, 5, 6, 7}\n",
      "{8, 5, 6, 7}\n",
      "set()\n",
      "set()\n",
      "True\n",
      "True\n",
      "False\n"
     ]
    }
   ],
   "source": [
    "s1 = {1, 2, 3, 4}\n",
    "s2 = {5, 6, 7, 8}\n",
    "# 1.union\n",
    "print(s1.union(s2)) # perform union operation on two sets\n",
    "# 2. update\n",
    "s1.update(s2)\n",
    "print(s1) # add elements of one set to other set\n",
    "# 3. difference\n",
    "print(s1.difference(s2)) # perform set difference\n",
    "# 4. intesection\n",
    "print(s1.intersection(s2)) # perform set intersection\n",
    "# 5. intesection_update\n",
    "s1.intersection_update(s2) # preform intersection and update the values into the first set\n",
    "print(s1)\n",
    "# 6. symmetric_difference\n",
    "print(s1.symmetric_difference(s2)) # perfrom difference and common elements provide\n",
    "# 7. symmetric_difference_update\n",
    "s1.symmetric_difference_update(s2) # perform difference and store them in first set\n",
    "print(s1)\n",
    "# 8. isdisjoint\n",
    "print(s1.isdisjoint(s2)) # To check whether both sets doesnt't contain same elements\n",
    "# 9. issubset\n",
    "print(s1.issubset(s2)) # To check the set is subset of other set\n",
    "# 10. issuperset\n",
    "print(s1.issuperset(s2)) # To check the set is superset of other set"
   ]
  },
  {
   "cell_type": "markdown",
   "id": "a040c425-1920-4a5e-9317-3f8cb0af5d98",
   "metadata": {},
   "source": [
    "### Dictionary\n",
    "- Dictionary is used to store key-value pair which are ordered, mutable, and allowes duplicate elements in values.\n",
    "- We can store elements inside curly brackets in the form key-value."
   ]
  },
  {
   "cell_type": "code",
   "execution_count": 4,
   "id": "921eca93-6dfe-4e5e-81cf-bb97f61eea02",
   "metadata": {},
   "outputs": [
    {
     "name": "stdout",
     "output_type": "stream",
     "text": [
      "<class 'dict'>\n",
      "{1: 'One', 2: 'Two', 3: 'Three', 4: 'Four', 5: 'Five'}\n",
      "Two\n"
     ]
    }
   ],
   "source": [
    "# Dictionary\n",
    "d = {} # empty dictionary\n",
    "print(type(d))\n",
    "d = {1: 'One', 2: 'Two', 3: 'Three', 4: 'Four', 5: 'Five'} # Creating a dictionary\n",
    "print(d)\n",
    "print(d[2]) # Accessing a value through key"
   ]
  },
  {
   "cell_type": "code",
   "execution_count": 5,
   "id": "26407f7a-482c-4370-92a0-4b4b4e2820c4",
   "metadata": {},
   "outputs": [
    {
     "name": "stdout",
     "output_type": "stream",
     "text": [
      "True\n",
      "True\n"
     ]
    },
    {
     "ename": "TypeError",
     "evalue": "'>' not supported between instances of 'dict' and 'dict'",
     "output_type": "error",
     "traceback": [
      "\u001b[1;31m---------------------------------------------------------------------------\u001b[0m",
      "\u001b[1;31mTypeError\u001b[0m                                 Traceback (most recent call last)",
      "Cell \u001b[1;32mIn[5], line 10\u001b[0m\n\u001b[0;32m      8\u001b[0m \u001b[38;5;28mprint\u001b[39m(d \u001b[38;5;129;01mis\u001b[39;00m \u001b[38;5;129;01mnot\u001b[39;00m \u001b[38;5;28;01mNone\u001b[39;00m)\n\u001b[0;32m      9\u001b[0m \u001b[38;5;66;03m# conditional operator\u001b[39;00m\n\u001b[1;32m---> 10\u001b[0m \u001b[38;5;28mprint\u001b[39m(d1 \u001b[38;5;241m>\u001b[39m d)\n",
      "\u001b[1;31mTypeError\u001b[0m: '>' not supported between instances of 'dict' and 'dict'"
     ]
    }
   ],
   "source": [
    "# Operators\n",
    "# Concatenation operator is not allowed\n",
    "# repetition operator is not allowed\n",
    "d1 = {1: 1, 2: 2, 3: 3}\n",
    "# Membership operator\n",
    "print(1 in d)\n",
    "# Identity operator\n",
    "print(d is not None)\n",
    "# conditional operator\n",
    "print(d1 > d)"
   ]
  },
  {
   "cell_type": "code",
   "execution_count": 7,
   "id": "73a497b7-376d-45b6-b01c-e3ccc911aa05",
   "metadata": {},
   "outputs": [
    {
     "name": "stdout",
     "output_type": "stream",
     "text": [
      "['__class__', '__class_getitem__', '__contains__', '__delattr__', '__delitem__', '__dir__', '__doc__', '__eq__', '__format__', '__ge__', '__getattribute__', '__getitem__', '__getstate__', '__gt__', '__hash__', '__init__', '__init_subclass__', '__ior__', '__iter__', '__le__', '__len__', '__lt__', '__ne__', '__new__', '__or__', '__reduce__', '__reduce_ex__', '__repr__', '__reversed__', '__ror__', '__setattr__', '__setitem__', '__sizeof__', '__str__', '__subclasshook__', 'clear', 'copy', 'fromkeys', 'get', 'items', 'keys', 'pop', 'popitem', 'setdefault', 'update', 'values']\n"
     ]
    }
   ],
   "source": [
    "print(dir(dict()))"
   ]
  },
  {
   "cell_type": "code",
   "execution_count": 23,
   "id": "2bf41fef-962e-4d82-85c1-1b35d1ec6af2",
   "metadata": {},
   "outputs": [
    {
     "name": "stdout",
     "output_type": "stream",
     "text": [
      "dict_keys([1, 2, 3])\n",
      "dict_items([(1, 'One'), (2, 'Two'), (3, 'Three')])\n",
      "dict_values(['One', 'Two', 'Three'])\n",
      "{1: 'One', 2: 'Two', 3: 'Three', 4: 'Four', 5: 'Five', 6: 'Six'}\n",
      "{1: 'One', 2: 'Two', 3: 'Three', 4: 'Four', 5: 'Five', 6: 'Six', 7: 'Seven'}\n",
      "One\n",
      "{2: 'Two', 3: 'Three', 4: 'Four', 5: 'Five', 6: 'Six', 7: 'Seven'}\n",
      "(7, 'Seven')\n",
      "{2: 'Two', 3: 'Three', 4: 'Four', 5: 'Five', 6: 'Six'}\n",
      "Two\n",
      "{10: 100, 20: 100, 30: 100}\n"
     ]
    }
   ],
   "source": [
    "d = {1: 'One', 2: 'Two', 3: 'Three'}\n",
    "d1 = {4: 'Four', 5: 'Five', 6: 'Six'}\n",
    "print(d.keys()) # To access only keys\n",
    "print(d.items()) # To access both keys and values\n",
    "print(d.values()) # To access only values\n",
    "d.update(d1)\n",
    "print(d) # To add one dictionary values to other dictionary\n",
    "d[7] = 'Seven' # Add element to the dictionary if the key doesn't exist, if exist modify the value of the key\n",
    "print(d)\n",
    "print(d.pop(1)) # To delete key-value pair from the dictionary based on the key\n",
    "print(d)\n",
    "print(d.popitem()) # To delete last added key-value pair from the dictionary \n",
    "print(d)\n",
    "print(d.get(2)) # To get the key-value based on the key from the dictionary\n",
    "l = [10, 20 , 30]\n",
    "print(dict.fromkeys(l, 100))"
   ]
  },
  {
   "cell_type": "code",
   "execution_count": 26,
   "id": "824befe5-3f48-441d-8470-a0d2e8fdbb0c",
   "metadata": {},
   "outputs": [
    {
     "name": "stdout",
     "output_type": "stream",
     "text": [
      "{1: 1, 2: 2, 3: 3, 4: 4}\n"
     ]
    }
   ],
   "source": [
    "l = [1, 2, 3, 4]\n",
    "l1 = [1, 2, 3, 4]\n",
    "print(dict(zip(l, l1))) # zip function"
   ]
  },
  {
   "cell_type": "code",
   "execution_count": 36,
   "id": "0ba97772-56b1-4ee1-b65e-5730a1dd959a",
   "metadata": {},
   "outputs": [
    {
     "name": "stdin",
     "output_type": "stream",
     "text": [
      " 'Dhoni' 'Kohli' 'Rohit' 'Rahul' 'Pandya'\n",
      " 123 183 264 122 92\n"
     ]
    },
    {
     "name": "stdout",
     "output_type": "stream",
     "text": [
      "Maximum runs scored 'Rohit':264\n",
      "Minimum runs scored 'Pandya':92\n"
     ]
    }
   ],
   "source": [
    "# Cricket problem\n",
    "l = list(map(str, input().split()))\n",
    "l1 = list(map(int, input().split()))\n",
    "d = dict(zip(l, l1))\n",
    "max1 = l1[0]\n",
    "min1 = l1[0]\n",
    "for i in d:\n",
    "    if d[i] > max1:\n",
    "        max1 = d[i]\n",
    "    else:\n",
    "        min1 = d[i]\n",
    "for k, v in d.items():\n",
    "    if v == max1:\n",
    "        print(f\"Maximum runs scored {k}:{v}\")\n",
    "    if v == min1:\n",
    "        print(f\"Minimum runs scored {k}:{v}\")"
   ]
  },
  {
   "cell_type": "code",
   "execution_count": 47,
   "id": "1bb63b10-72df-408c-a6c1-23a751598f5d",
   "metadata": {},
   "outputs": [
    {
     "name": "stdout",
     "output_type": "stream",
     "text": [
      "{'vinodh': 6, 'vamsi': 5, 'shankar': 7, 'rohith': 6}\n",
      "{'vinodh': 'even_length', 'shankar': 'odd_length', 'rohith': 'even_length'}\n"
     ]
    }
   ],
   "source": [
    "names = ['vinodh', 'vamsi', 'shankar', 'rohith']\n",
    "print({ i: len(i) for i in names})\n",
    "print({i: 'even_length' if(len(i)%2 == 0)  else 'odd_length' for i in names if len(i) > 5})"
   ]
  },
  {
   "cell_type": "code",
   "execution_count": 40,
   "id": "dcb28b85-e031-42a5-85c9-4878d7c938fd",
   "metadata": {},
   "outputs": [
    {
     "name": "stdout",
     "output_type": "stream",
     "text": [
      "{1: 1, 2: 4, 3: 9, 4: 16, 5: 25, 6: 36, 7: 49, 8: 64, 9: 81, 10: 100}\n",
      "{2: 4, 4: 16, 6: 36, 8: 64, 10: 100}\n"
     ]
    }
   ],
   "source": [
    "# create squares of the key\n",
    "d = {i: i**2 for i in range(1, 11)}\n",
    "print(d)\n",
    "d = {i: i**2 for i in range(1, 11) if i%2 == 0}\n",
    "print(d)"
   ]
  },
  {
   "cell_type": "code",
   "execution_count": 49,
   "id": "cab3a84f-74a3-46ff-9f4b-1959d16ab692",
   "metadata": {},
   "outputs": [
    {
     "name": "stdin",
     "output_type": "stream",
     "text": [
      " narayana\n"
     ]
    },
    {
     "name": "stdout",
     "output_type": "stream",
     "text": [
      "{'n': 2, 'a': 4, 'r': 1, 'y': 1}\n"
     ]
    }
   ],
   "source": [
    "# Write a program for dictionary for each character from the given string\n",
    "str1 = input()\n",
    "print({i : str1.count(i) for i in str1 })"
   ]
  },
  {
   "cell_type": "markdown",
   "id": "a127971f-cbe6-4b42-b79d-2d8cd7d499b3",
   "metadata": {},
   "source": [
    "### Collections module"
   ]
  },
  {
   "cell_type": "code",
   "execution_count": 51,
   "id": "db31d1f7-810c-4b50-9364-1ff04aa4d3c5",
   "metadata": {},
   "outputs": [
    {
     "name": "stdout",
     "output_type": "stream",
     "text": [
      "['ChainMap', 'Counter', 'OrderedDict', 'UserDict', 'UserList', 'UserString', '_Link', '_OrderedDictItemsView', '_OrderedDictKeysView', '_OrderedDictValuesView', '__all__', '__builtins__', '__cached__', '__doc__', '__file__', '__loader__', '__name__', '__package__', '__path__', '__spec__', '_chain', '_collections_abc', '_count_elements', '_deque_iterator', '_eq', '_iskeyword', '_itemgetter', '_proxy', '_recursive_repr', '_repeat', '_starmap', '_sys', '_tuplegetter', 'abc', 'defaultdict', 'deque', 'namedtuple']\n"
     ]
    }
   ],
   "source": [
    "import collections\n",
    "print(dir(collections))"
   ]
  },
  {
   "cell_type": "markdown",
   "id": "c6c0db49-845b-4c81-8c0a-a6cdb800c50c",
   "metadata": {},
   "source": [
    "#### Collection methods\n",
    "1. Counter\n",
    "2. defaultdict\n",
    "3. deque\n",
    "4. namedtuple"
   ]
  },
  {
   "cell_type": "code",
   "execution_count": 53,
   "id": "01fd909b-f4ab-4bfd-b6ff-57b6b147d9e6",
   "metadata": {},
   "outputs": [
    {
     "name": "stdout",
     "output_type": "stream",
     "text": [
      "Counter({' ': 3, 'e': 3, 'n': 2, 'a': 2, 's': 2, 'M': 1, 'y': 1, 'm': 1, 'i': 1, 'r': 1})\n"
     ]
    }
   ],
   "source": [
    "# 1. Counter method\n",
    "from collections import Counter\n",
    "str1 = 'My name is naseer'\n",
    "count = Counter(str1)\n",
    "print(count)"
   ]
  },
  {
   "cell_type": "code",
   "execution_count": 55,
   "id": "5094a7aa-97b5-4658-a20b-ff182db8bb8f",
   "metadata": {},
   "outputs": [
    {
     "name": "stdout",
     "output_type": "stream",
     "text": [
      "Counter({1: 4, 3: 2, 6: 2, 2: 2})\n"
     ]
    }
   ],
   "source": [
    "from collections import Counter\n",
    "import random\n",
    "str1 = [random.randrange(1, 8) for i in range(10)]\n",
    "print(Counter(str1))"
   ]
  },
  {
   "cell_type": "code",
   "execution_count": 58,
   "id": "84a06100-ce31-4108-8ad4-321d95c7a41c",
   "metadata": {},
   "outputs": [
    {
     "name": "stdout",
     "output_type": "stream",
     "text": [
      "1 \n",
      " 2 \n",
      " 0\n"
     ]
    }
   ],
   "source": [
    "# 2. defaultdict\n",
    "# defaultdict is subclass & inbuilt class dict\n",
    "# syntax: var = defaultdict(default_factory)\n",
    "from collections import defaultdict\n",
    "d = defaultdict(int)\n",
    "d['a'] = 1\n",
    "d['b'] = 2\n",
    "print( d['a'],'\\n', d['b'], '\\n', d['c'])"
   ]
  },
  {
   "cell_type": "code",
   "execution_count": 60,
   "id": "d99354bf-75e1-445a-9213-a6e95f7f06f3",
   "metadata": {},
   "outputs": [
    {
     "name": "stdout",
     "output_type": "stream",
     "text": [
      "kohli\n",
      "no value\n"
     ]
    }
   ],
   "source": [
    "from collections import defaultdict\n",
    "d = defaultdict(lambda : 'no value')\n",
    "d['cricket'] = ('kohli')\n",
    "d['badminton'] = ('Sindhu')\n",
    "print(d['cricket'])\n",
    "print(d['football'])"
   ]
  },
  {
   "cell_type": "markdown",
   "id": "5ea7adc9-6dbc-40e4-b80b-6749562aabd2",
   "metadata": {},
   "source": [
    "### 3. deque\n",
    "- deque means double ended queue.\n",
    "- Generally, queue follows FIFO structure, but in deque it supports LIFO & FIFO.\n",
    "- Which will accept list as argument.\n",
    "- syntax:\n",
    "  - variable = deque(list)"
   ]
  },
  {
   "cell_type": "code",
   "execution_count": 61,
   "id": "8b01ed1e-0f60-4f0b-b9ea-282fe1323c6f",
   "metadata": {},
   "outputs": [
    {
     "name": "stdout",
     "output_type": "stream",
     "text": [
      "deque([1, 2, 3])\n",
      "deque([1, 2, 3, 4])\n",
      "deque([5, 1, 2, 3, 4])\n",
      "deque([5, 1, 2, 3])\n",
      "deque([1, 2, 3])\n",
      "deque([1, 2, 3, 4, 5, 6])\n",
      "deque([9, 8, 7, 1, 2, 3, 4, 5, 6])\n",
      "deque([8, 7, 1, 2, 3, 4, 5, 6])\n",
      "deque([6, 5, 4, 3, 2, 1, 7, 8])\n",
      "deque([5, 4, 3, 2, 1, 7, 8, 6])\n"
     ]
    }
   ],
   "source": [
    "from collections import deque\n",
    "d = deque([1, 2, 3])\n",
    "print(d)\n",
    "d.append(4)\n",
    "print(d)\n",
    "d.appendleft(5)\n",
    "print(d)\n",
    "d.pop()\n",
    "print(d)\n",
    "d.popleft()\n",
    "print(d)\n",
    "d.extend([4, 5, 6])\n",
    "print(d)\n",
    "d.extendleft([7, 8, 9])\n",
    "print(d)\n",
    "d.remove(9)\n",
    "print(d)\n",
    "d.reverse()\n",
    "print(d)\n",
    "d.rotate(-1)\n",
    "print(d)"
   ]
  },
  {
   "cell_type": "markdown",
   "id": "8eab1332-2fe4-4d80-846c-7764c44ec4f2",
   "metadata": {},
   "source": [
    "### namedtuple class\n",
    "- namedtuple is a mini-class.\n",
    "- We can access using names.\n",
    "- syntax:\n",
    "  - var = namedtuple(type_name, field_name)"
   ]
  },
  {
   "cell_type": "code",
   "execution_count": 68,
   "id": "4b7da828-e53b-462f-80be-f1ac84e2c269",
   "metadata": {},
   "outputs": [
    {
     "name": "stdout",
     "output_type": "stream",
     "text": [
      "kiran\n"
     ]
    }
   ],
   "source": [
    "from collections import namedtuple\n",
    "std = namedtuple('student', ['name', 'branch', 'marks'])\n",
    "s1 = std('kiran', '20', '550')\n",
    "print(s1.name)"
   ]
  },
  {
   "cell_type": "code",
   "execution_count": null,
   "id": "60fd3b43-4442-4490-8352-56ab95d50b12",
   "metadata": {},
   "outputs": [],
   "source": [
    "# Dictionary nesting and data transformation"
   ]
  }
 ],
 "metadata": {
  "kernelspec": {
   "display_name": "Python 3 (ipykernel)",
   "language": "python",
   "name": "python3"
  },
  "language_info": {
   "codemirror_mode": {
    "name": "ipython",
    "version": 3
   },
   "file_extension": ".py",
   "mimetype": "text/x-python",
   "name": "python",
   "nbconvert_exporter": "python",
   "pygments_lexer": "ipython3",
   "version": "3.12.7"
  }
 },
 "nbformat": 4,
 "nbformat_minor": 5
}
